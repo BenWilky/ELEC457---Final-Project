{
 "cells": [
  {
   "cell_type": "markdown",
   "metadata": {},
   "source": [
    "**ELEC 457 - Final Project**\n",
    "\n",
    "**Ben Wilkinson - 72583727**\n",
    "\n",
    "This python notebook contains all the required information and procedures to complete a thourough analysis of a power system that includes generation, storage and loads.\n",
    "\n",
    "PyPSA is the backbone of this notebook and it's capabilities are leveraged throughout to ensure \"accurate\" results. PyPSA provides an overhead structure that allows for designer, engineers and hobbyist to create power systems through simple classes. These classes can be seperated into the categories of loads, generators, storage, and transmission. Extremely detailed information can attached to these classes including nominal, max, minimum output, ramp up time/cost, ramp down time and cost, max charge states, charge rate, temperature limits, and many many more variables. A deep dive into all the available variables can be found in PyPSA's documentation.\n",
    "\n",
    "For this use case, PyPSA was put to use with Highs Solver, a optimization tool, to create a monte carlo or stochastic optimization if you wish. Both load and wind and solar variability (C.F.) we're adjusted with a uniform distribution to captures a range of cases that could be used to evaluate pricing, availabilioty and capacity planning for the future. To be considered here is that transmission was not taken into account with this model, that is, we assume an infinite bus with zero losses that all generation, storage and laods are connected to.\n",
    "\n",
    "\n",
    "In the following sections between blocks of code, descriptions of what is being done and why can be found. If relevant, notes on how to edit the source code and why you may want to will also laid out in these text blocks.\n",
    "\n",
    "To get started though, you must first have some basic libraries and programs installed. Firstly, install Visual Studio Code, the latest version of python anbd reopen this file in VS Code.\n"
   ]
  },
  {
   "cell_type": "code",
   "execution_count": null,
   "metadata": {},
   "outputs": [
    {
     "ename": "",
     "evalue": "",
     "output_type": "error",
     "traceback": [
      "\u001b[1;31mFailed to start the Kernel. \n",
      "\u001b[1;31mUnable to start Kernel 'venv (Python 3.9.4)' due to a timeout waiting for the ports to get used. \n",
      "\u001b[1;31mView Jupyter <a href='command:jupyter.viewOutput'>log</a> for further details."
     ]
    }
   ],
   "source": [
    "import pypsa\n",
    "import pandas as pd\n",
    "import matplotlib.pyplot as plt\n",
    "import statistics as st\n",
    "import numpy as np\n",
    "import math\n",
    "import plotly.express as px\n",
    "import plotly.graph_objects as go"
   ]
  },
  {
   "cell_type": "code",
   "execution_count": null,
   "metadata": {},
   "outputs": [
    {
     "ename": "",
     "evalue": "",
     "output_type": "error",
     "traceback": [
      "\u001b[1;31mFailed to start the Kernel. \n",
      "\u001b[1;31mUnable to start Kernel 'venv (Python 3.9.4)' due to a timeout waiting for the ports to get used. \n",
      "\u001b[1;31mView Jupyter <a href='command:jupyter.viewOutput'>log</a> for further details."
     ]
    }
   ],
   "source": [
    "carbon_market = True\n",
    "hydro = True\n",
    "nuclear = True\n",
    "conversion_rate = 1.44\n",
    "carbon_cost = 500 ##Carbon Cost (CAD/ton)\n",
    "\n",
    "year = 2025\n",
    "month = \"08\"\n",
    "date = f\"{year}-{month}\"\n",
    "costs = pd.read_csv(\"cost_data/costs_2025.csv\", index_col=[0, 1])\n",
    "\n",
    "#url = f\"https://raw.githubusercontent.com/PyPSA/technology-data/master/outputs/costs_{year}.csv\""
   ]
  },
  {
   "cell_type": "code",
   "execution_count": null,
   "metadata": {},
   "outputs": [
    {
     "ename": "",
     "evalue": "",
     "output_type": "error",
     "traceback": [
      "\u001b[1;31mFailed to start the Kernel. \n",
      "\u001b[1;31mUnable to start Kernel 'venv (Python 3.9.4)' due to a timeout waiting for the ports to get used. \n",
      "\u001b[1;31mView Jupyter <a href='command:jupyter.viewOutput'>log</a> for further details."
     ]
    }
   ],
   "source": [
    "costs.loc[costs.unit.str.contains(\"/kW\"), \"value\"] *= 1e3\n",
    "costs.unit = costs.unit.str.replace(\"/kW\", \"/MW\")\n",
    "costs.loc[costs.unit.str.contains(\"EUR/\"), \"value\"] *= conversion_rate\n",
    "costs.unit = costs.unit.str.replace(\"EUR/\", \"CAD/\")"
   ]
  },
  {
   "cell_type": "code",
   "execution_count": null,
   "metadata": {},
   "outputs": [
    {
     "ename": "",
     "evalue": "",
     "output_type": "error",
     "traceback": [
      "\u001b[1;31mFailed to start the Kernel. \n",
      "\u001b[1;31mUnable to start Kernel 'venv (Python 3.9.4)' due to a timeout waiting for the ports to get used. \n",
      "\u001b[1;31mView Jupyter <a href='command:jupyter.viewOutput'>log</a> for further details."
     ]
    }
   ],
   "source": [
    "defaults = {\n",
    "    \"FOM\": 0,\n",
    "    \"VOM\": 0,\n",
    "    \"efficiency\": 1,\n",
    "    \"fuel\": 0,\n",
    "    \"investment\": 0,\n",
    "    \"lifetime\": 25,\n",
    "    \"CO2 intensity\": 0,\n",
    "    \"discount rate\": 0.15,\n",
    "}\n",
    "costs = costs.value.unstack().fillna(defaults)"
   ]
  },
  {
   "cell_type": "code",
   "execution_count": null,
   "metadata": {},
   "outputs": [
    {
     "ename": "",
     "evalue": "",
     "output_type": "error",
     "traceback": [
      "\u001b[1;31mFailed to start the Kernel. \n",
      "\u001b[1;31mUnable to start Kernel 'venv (Python 3.9.4)' due to a timeout waiting for the ports to get used. \n",
      "\u001b[1;31mView Jupyter <a href='command:jupyter.viewOutput'>log</a> for further details."
     ]
    }
   ],
   "source": [
    "##Adjust Hydro Pricing based on site C dam (16 Billion CAD$/1100MW) = 14.5 Million/MW\n",
    "costs.at[\"hydro\", \"investment\"] = 14.5*1e6 #CAD/MW\n",
    "#costs.at[\"nuclear\", \"investment\"] = 17.4*1e6 #CAD/MW\n",
    "#print(costs.at[\"nuclear\", \"investment\"])\n",
    "#print(costs.at[\"hydro\", \"investment\"])\n",
    "\n",
    "costs.at[\"nuclear\", \"fuel\"] = costs.at[\"nuclear\", \"fuel\"]\n",
    "costs.at[\"nuclear\", \"CO2 intensity\"] = costs.at[\"nuclear\", \"CO2 intensity\"]\n",
    "costs.at[\"CCGT\", \"fuel\"] = costs.at[\"gas\", \"fuel\"]\n",
    "costs.at[\"CCGT\", \"CO2 intensity\"] = costs.at[\"gas\", \"CO2 intensity\"]\n",
    "costs.at[\"hydro\", \"fuel\"] = costs.at[\"hydro\", \"fuel\"]\n",
    "costs.at[\"hydro\", \"CO2 intensity\"] = costs.at[\"hydro\", \"CO2 intensity\"]"
   ]
  },
  {
   "cell_type": "code",
   "execution_count": null,
   "metadata": {},
   "outputs": [
    {
     "ename": "",
     "evalue": "",
     "output_type": "error",
     "traceback": [
      "\u001b[1;31mFailed to start the Kernel. \n",
      "\u001b[1;31mUnable to start Kernel 'venv (Python 3.9.4)' due to a timeout waiting for the ports to get used. \n",
      "\u001b[1;31mView Jupyter <a href='command:jupyter.viewOutput'>log</a> for further details."
     ]
    }
   ],
   "source": [
    "def annuity(r, n):\n",
    "    return r / (1.0 - 1.0 / (1.0 + r) ** n)"
   ]
  },
  {
   "cell_type": "code",
   "execution_count": null,
   "metadata": {},
   "outputs": [
    {
     "ename": "",
     "evalue": "",
     "output_type": "error",
     "traceback": [
      "\u001b[1;31mFailed to start the Kernel. \n",
      "\u001b[1;31mUnable to start Kernel 'venv (Python 3.9.4)' due to a timeout waiting for the ports to get used. \n",
      "\u001b[1;31mView Jupyter <a href='command:jupyter.viewOutput'>log</a> for further details."
     ]
    }
   ],
   "source": [
    "costs[\"marginal_cost\"] = costs[\"VOM\"] + costs[\"fuel\"] / costs[\"efficiency\"]\n",
    "annuity = costs.apply(lambda x: annuity(x[\"discount rate\"], x[\"lifetime\"]), axis=1)\n",
    "costs[\"capital_cost\"] = (annuity + costs[\"FOM\"] / 100) * costs[\"investment\"]\n",
    "\n",
    "costs.at[\"CCGT\", \"marginal_cost\"] = costs.at[\"CCGT\", \"marginal_cost\"] + carbon_cost\n",
    "print(\"CCGT Marginal Cost: \", costs.at[\"CCGT\", \"marginal_cost\"])\n",
    "print(\"Nuclear Marginal Cost: \", costs.at[\"nuclear\", \"marginal_cost\"])\n",
    "print(\"Solar Marginal Cost: \",costs.at[\"solar\", \"marginal_cost\"])\n",
    "print(\"Onshore Wind Marginal Cost: \", costs.at[\"onwind\", \"marginal_cost\"])\n",
    "print(\"Hydro Marginal Cost: \", costs.at[\"hydro\", \"marginal_cost\"])"
   ]
  },
  {
   "cell_type": "code",
   "execution_count": null,
   "metadata": {},
   "outputs": [
    {
     "ename": "",
     "evalue": "",
     "output_type": "error",
     "traceback": [
      "\u001b[1;31mFailed to start the Kernel. \n",
      "\u001b[1;31mUnable to start Kernel 'venv (Python 3.9.4)' due to a timeout waiting for the ports to get used. \n",
      "\u001b[1;31mView Jupyter <a href='command:jupyter.viewOutput'>log</a> for further details."
     ]
    }
   ],
   "source": [
    "ts_data = pd.read_csv(\"timeseries-data-wash.csv\",index_col=0,parse_dates=True)\n",
    "#Replace all 2014 with year\n",
    "ts_data.index = ts_data.index.map(lambda t: t.replace(year=year))\n",
    "ts_data.head(5)"
   ]
  },
  {
   "cell_type": "code",
   "execution_count": null,
   "metadata": {},
   "outputs": [
    {
     "ename": "",
     "evalue": "",
     "output_type": "error",
     "traceback": [
      "\u001b[1;31mFailed to start the Kernel. \n",
      "\u001b[1;31mUnable to start Kernel 'venv (Python 3.9.4)' due to a timeout waiting for the ports to get used. \n",
      "\u001b[1;31mView Jupyter <a href='command:jupyter.viewOutput'>log</a> for further details."
     ]
    }
   ],
   "source": [
    "factor = (year - 2014)*0.02\n",
    "ts_data[\"load\"] += ts_data[\"load\"]*factor\n",
    "ts_data.head(5)"
   ]
  },
  {
   "cell_type": "code",
   "execution_count": null,
   "metadata": {},
   "outputs": [
    {
     "ename": "",
     "evalue": "",
     "output_type": "error",
     "traceback": [
      "\u001b[1;31mFailed to start the Kernel. \n",
      "\u001b[1;31mUnable to start Kernel 'venv (Python 3.9.4)' due to a timeout waiting for the ports to get used. \n",
      "\u001b[1;31mView Jupyter <a href='command:jupyter.viewOutput'>log</a> for further details."
     ]
    }
   ],
   "source": [
    "psa = pypsa.Network()\n",
    "psa.add(\"Bus\", \"electricity\")"
   ]
  },
  {
   "cell_type": "code",
   "execution_count": null,
   "metadata": {},
   "outputs": [
    {
     "ename": "",
     "evalue": "",
     "output_type": "error",
     "traceback": [
      "\u001b[1;31mFailed to start the Kernel. \n",
      "\u001b[1;31mUnable to start Kernel 'venv (Python 3.9.4)' due to a timeout waiting for the ports to get used. \n",
      "\u001b[1;31mView Jupyter <a href='command:jupyter.viewOutput'>log</a> for further details."
     ]
    }
   ],
   "source": [
    "psa.set_snapshots(ts_data.index)"
   ]
  },
  {
   "cell_type": "code",
   "execution_count": null,
   "metadata": {},
   "outputs": [
    {
     "ename": "",
     "evalue": "",
     "output_type": "error",
     "traceback": [
      "\u001b[1;31mFailed to start the Kernel. \n",
      "\u001b[1;31mUnable to start Kernel 'venv (Python 3.9.4)' due to a timeout waiting for the ports to get used. \n",
      "\u001b[1;31mView Jupyter <a href='command:jupyter.viewOutput'>log</a> for further details."
     ]
    }
   ],
   "source": [
    "carriers = [\n",
    "    \"onwind\",\n",
    "    \"solar\",\n",
    "    \"battery storage\",\n",
    "    \"CCGT\",\n",
    "    \"nuclear\",\n",
    "    \"hydro\",\n",
    "    \"Pumped-Storage-Hydro-store\"\n",
    "]\n",
    "\n",
    "psa.madd(\n",
    "    \"Carrier\",\n",
    "    carriers,\n",
    "    color=[\"dodgerblue\", \"aquamarine\", \"gold\", \"indianred\", \"magenta\",\"yellowgreen\", \"orange\"],\n",
    "    co2_emissions=[costs.at[c, \"CO2 intensity\"] for c in carriers],\n",
    ")"
   ]
  },
  {
   "cell_type": "code",
   "execution_count": null,
   "metadata": {},
   "outputs": [
    {
     "ename": "",
     "evalue": "",
     "output_type": "error",
     "traceback": [
      "\u001b[1;31mFailed to start the Kernel. \n",
      "\u001b[1;31mUnable to start Kernel 'venv (Python 3.9.4)' due to a timeout waiting for the ports to get used. \n",
      "\u001b[1;31mView Jupyter <a href='command:jupyter.viewOutput'>log</a> for further details."
     ]
    }
   ],
   "source": [
    "psa.add(\n",
    "    \"Generator\",\n",
    "    \"CCGT\",\n",
    "    bus=\"electricity\",\n",
    "    carrier=\"CCGT\",\n",
    "    capital_cost=costs.at[\"CCGT\", \"capital_cost\"],\n",
    "    marginal_cost=costs.at[\"CCGT\", \"marginal_cost\"],\n",
    "    efficiency=costs.at[\"CCGT\", \"efficiency\"],\n",
    "    p_nom_extendable=True,\n",
    ")"
   ]
  },
  {
   "cell_type": "code",
   "execution_count": null,
   "metadata": {},
   "outputs": [
    {
     "ename": "",
     "evalue": "",
     "output_type": "error",
     "traceback": [
      "\u001b[1;31mFailed to start the Kernel. \n",
      "\u001b[1;31mUnable to start Kernel 'venv (Python 3.9.4)' due to a timeout waiting for the ports to get used. \n",
      "\u001b[1;31mView Jupyter <a href='command:jupyter.viewOutput'>log</a> for further details."
     ]
    }
   ],
   "source": [
    "if nuclear is True:\n",
    "    psa.add(\n",
    "        \"Generator\",\n",
    "        \"nuclear\",\n",
    "        bus=\"electricity\",\n",
    "        carrier=\"nuclear\",\n",
    "        capital_cost=costs.at[\"nuclear\", \"capital_cost\"],\n",
    "        marginal_cost=costs.at[\"nuclear\", \"marginal_cost\"],\n",
    "        efficiency=costs.at[\"nuclear\", \"efficiency\"],\n",
    "        p_nom_extendable=True,\n",
    "    )"
   ]
  },
  {
   "cell_type": "code",
   "execution_count": null,
   "metadata": {},
   "outputs": [
    {
     "ename": "",
     "evalue": "",
     "output_type": "error",
     "traceback": [
      "\u001b[1;31mFailed to start the Kernel. \n",
      "\u001b[1;31mUnable to start Kernel 'venv (Python 3.9.4)' due to a timeout waiting for the ports to get used. \n",
      "\u001b[1;31mView Jupyter <a href='command:jupyter.viewOutput'>log</a> for further details."
     ]
    }
   ],
   "source": [
    "if hydro is True:\n",
    "    psa.add(\n",
    "        \"Generator\",\n",
    "        \"hydro\",\n",
    "        bus=\"electricity\",\n",
    "        carrier=\"hydro\",\n",
    "        capital_cost=costs.at[\"hydro\", \"capital_cost\"],\n",
    "        marginal_cost=costs.at[\"hydro\", \"marginal_cost\"],\n",
    "        efficiency=costs.at[\"hydro\", \"efficiency\"],\n",
    "        p_nom_extendable=True,\n",
    "    )"
   ]
  },
  {
   "cell_type": "code",
   "execution_count": null,
   "metadata": {},
   "outputs": [
    {
     "ename": "",
     "evalue": "",
     "output_type": "error",
     "traceback": [
      "\u001b[1;31mFailed to start the Kernel. \n",
      "\u001b[1;31mUnable to start Kernel 'venv (Python 3.9.4)' due to a timeout waiting for the ports to get used. \n",
      "\u001b[1;31mView Jupyter <a href='command:jupyter.viewOutput'>log</a> for further details."
     ]
    }
   ],
   "source": [
    "for tech in [\"onwind\", \"solar\"]:\n",
    "    psa.add(\n",
    "        \"Generator\",\n",
    "        tech,\n",
    "        bus=\"electricity\",\n",
    "        carrier=tech,\n",
    "        p_max_pu=ts_data[tech],\n",
    "        capital_cost=costs.at[tech, \"capital_cost\"],\n",
    "        marginal_cost=costs.at[tech, \"marginal_cost\"],\n",
    "        efficiency=costs.at[tech, \"efficiency\"],\n",
    "        p_nom_extendable=True,\n",
    "    )"
   ]
  },
  {
   "cell_type": "code",
   "execution_count": null,
   "metadata": {},
   "outputs": [
    {
     "ename": "",
     "evalue": "",
     "output_type": "error",
     "traceback": [
      "\u001b[1;31mFailed to start the Kernel. \n",
      "\u001b[1;31mUnable to start Kernel 'venv (Python 3.9.4)' due to a timeout waiting for the ports to get used. \n",
      "\u001b[1;31mView Jupyter <a href='command:jupyter.viewOutput'>log</a> for further details."
     ]
    }
   ],
   "source": [
    "psa.add(\n",
    "    \"StorageUnit\",\n",
    "    \"battery storage\",\n",
    "    bus=\"electricity\",\n",
    "    carrier=\"battery storage\",\n",
    "    max_hours=4,\n",
    "    capital_cost=costs.at[\"battery inverter\", \"capital_cost\"]\n",
    "    + 6 * costs.at[\"battery storage\", \"capital_cost\"],\n",
    "    efficiency_store=costs.at[\"battery inverter\", \"efficiency\"],\n",
    "    efficiency_dispatch=costs.at[\"battery inverter\", \"efficiency\"],\n",
    "    p_nom_extendable=True,\n",
    "    p_nom_min=psa.generators.p_nom_opt.onwind + psa.generators.p_nom_opt.solar,\n",
    "    #p_nom_min=0.8*ts_data[\"load\"].mean(),\n",
    "    cyclic_state_of_charge=True,\n",
    ")"
   ]
  },
  {
   "cell_type": "code",
   "execution_count": null,
   "metadata": {},
   "outputs": [
    {
     "ename": "",
     "evalue": "",
     "output_type": "error",
     "traceback": [
      "\u001b[1;31mFailed to start the Kernel. \n",
      "\u001b[1;31mUnable to start Kernel 'venv (Python 3.9.4)' due to a timeout waiting for the ports to get used. \n",
      "\u001b[1;31mView Jupyter <a href='command:jupyter.viewOutput'>log</a> for further details."
     ]
    }
   ],
   "source": [
    "# psa.add(\n",
    "#     \"StorageUnit\",\n",
    "#     \"pumped hydro\",\n",
    "#     bus=\"electricity\",\n",
    "#     carrier=\"Pumped-Storage-Hydro-store\",\n",
    "#     max_hours=8,\n",
    "#     capital_cost=costs.at[\"Pumped-Storage-Hydro-bicharger\", \"capital_cost\"]\n",
    "#     + 2 * costs.at[\"Pumped-Storage-Hydro-store\", \"capital_cost\"],\n",
    "#     efficiency_store=costs.at[\"Pumped-Storage-Hydro-bicharger\", \"efficiency\"],\n",
    "#     efficiency_dispatch=costs.at[\"Pumped-Storage-Hydro-bicharger\", \"efficiency\"],\n",
    "#     p_nom_extendable=True,\n",
    "#     #p_nom_min=psa.generators.p_nom_opt.onwind + psa.generators.p_nom_opt.solar,\n",
    "#     cyclic_state_of_charge=True,\n",
    "# )"
   ]
  },
  {
   "cell_type": "code",
   "execution_count": null,
   "metadata": {},
   "outputs": [
    {
     "ename": "",
     "evalue": "",
     "output_type": "error",
     "traceback": [
      "\u001b[1;31mFailed to start the Kernel. \n",
      "\u001b[1;31mUnable to start Kernel 'venv (Python 3.9.4)' due to a timeout waiting for the ports to get used. \n",
      "\u001b[1;31mView Jupyter <a href='command:jupyter.viewOutput'>log</a> for further details."
     ]
    }
   ],
   "source": [
    "if carbon_market is False:\n",
    "    psa.add(\n",
    "         \"GlobalConstraint\",\n",
    "         \"CO2Limit\",\n",
    "         carrier_attribute=\"co2_emissions\",\n",
    "         sense=\"<=\",\n",
    "         constant=0,\n",
    "    )"
   ]
  },
  {
   "cell_type": "code",
   "execution_count": null,
   "metadata": {},
   "outputs": [
    {
     "ename": "",
     "evalue": "",
     "output_type": "error",
     "traceback": [
      "\u001b[1;31mFailed to start the Kernel. \n",
      "\u001b[1;31mUnable to start Kernel 'venv (Python 3.9.4)' due to a timeout waiting for the ports to get used. \n",
      "\u001b[1;31mView Jupyter <a href='command:jupyter.viewOutput'>log</a> for further details."
     ]
    }
   ],
   "source": [
    "df = psa.generators_t.p_max_pu.loc[date]\n",
    "fig = px.line(df, title=f\"Wind and Solar Capacity in {date}\").update_layout(yaxis_title=\"Capacity Factor (pu)\", xaxis_title=\"Date\")\n",
    "fig.show()"
   ]
  },
  {
   "cell_type": "code",
   "execution_count": null,
   "metadata": {},
   "outputs": [
    {
     "ename": "",
     "evalue": "",
     "output_type": "error",
     "traceback": [
      "\u001b[1;31mFailed to start the Kernel. \n",
      "\u001b[1;31mUnable to start Kernel 'venv (Python 3.9.4)' due to a timeout waiting for the ports to get used. \n",
      "\u001b[1;31mView Jupyter <a href='command:jupyter.viewOutput'>log</a> for further details."
     ]
    }
   ],
   "source": [
    "def system_cost(psa):\n",
    "    tsc = psa.statistics.capex() + psa.statistics.opex(aggregate_time=\"sum\")\n",
    "    return tsc.droplevel(0).div(1e6)  # million CAD$/a"
   ]
  },
  {
   "cell_type": "code",
   "execution_count": null,
   "metadata": {},
   "outputs": [
    {
     "ename": "",
     "evalue": "",
     "output_type": "error",
     "traceback": [
      "\u001b[1;31mFailed to start the Kernel. \n",
      "\u001b[1;31mUnable to start Kernel 'venv (Python 3.9.4)' due to a timeout waiting for the ports to get used. \n",
      "\u001b[1;31mView Jupyter <a href='command:jupyter.viewOutput'>log</a> for further details."
     ]
    }
   ],
   "source": [
    "dist = np.random.uniform(0.5,1.5,15)\n",
    "out = pd.DataFrame()\n",
    "gen = pd.DataFrame()\n",
    "loads = pd.DataFrame()\n",
    "storage = pd.DataFrame()\n",
    "\n",
    "for i in range(dist.size):\n",
    "    load = ts_data[\"load\"]*dist[i]\n",
    "    psa.add(\n",
    "        \"Load\",\n",
    "        \"demand\",\n",
    "        bus=\"electricity\",\n",
    "        p_set=load,\n",
    "    )\n",
    "    psa.optimize(solver_name=\"highs\")\n",
    "    loads[i] = load\n",
    "    gen[i] = psa.generators.p_nom_opt\n",
    "    out[i] = system_cost(psa)\n",
    "    if not psa.storage_units.empty:\n",
    "        storage[i] = psa.storage_units.p_nom_opt\n",
    "    psa.remove(\"Load\", \"demand\")\n",
    "\n",
    "#Get the mean, low and high values from the distribution\n",
    "mean = dist.mean()\n",
    "low = dist.min()\n",
    "high = dist.max()"
   ]
  },
  {
   "cell_type": "code",
   "execution_count": null,
   "metadata": {},
   "outputs": [
    {
     "ename": "",
     "evalue": "",
     "output_type": "error",
     "traceback": [
      "\u001b[1;31mFailed to start the Kernel. \n",
      "\u001b[1;31mUnable to start Kernel 'venv (Python 3.9.4)' due to a timeout waiting for the ports to get used. \n",
      "\u001b[1;31mView Jupyter <a href='command:jupyter.viewOutput'>log</a> for further details."
     ]
    }
   ],
   "source": [
    "#print(gen)"
   ]
  },
  {
   "cell_type": "code",
   "execution_count": null,
   "metadata": {},
   "outputs": [
    {
     "ename": "",
     "evalue": "",
     "output_type": "error",
     "traceback": [
      "\u001b[1;31mFailed to start the Kernel. \n",
      "\u001b[1;31mUnable to start Kernel 'venv (Python 3.9.4)' due to a timeout waiting for the ports to get used. \n",
      "\u001b[1;31mView Jupyter <a href='command:jupyter.viewOutput'>log</a> for further details."
     ]
    }
   ],
   "source": [
    "fig = px.line(loads.loc[date]).update_layout(yaxis_title=\"Load (MW)\", xaxis_title=\"Date\")\n",
    "fig.show()"
   ]
  },
  {
   "cell_type": "code",
   "execution_count": null,
   "metadata": {},
   "outputs": [
    {
     "ename": "",
     "evalue": "",
     "output_type": "error",
     "traceback": [
      "\u001b[1;31mFailed to start the Kernel. \n",
      "\u001b[1;31mUnable to start Kernel 'venv (Python 3.9.4)' due to a timeout waiting for the ports to get used. \n",
      "\u001b[1;31mView Jupyter <a href='command:jupyter.viewOutput'>log</a> for further details."
     ]
    }
   ],
   "source": [
    "print(gen[1])\n",
    "print(storage[1])"
   ]
  },
  {
   "cell_type": "code",
   "execution_count": null,
   "metadata": {},
   "outputs": [
    {
     "ename": "",
     "evalue": "",
     "output_type": "error",
     "traceback": [
      "\u001b[1;31mFailed to start the Kernel. \n",
      "\u001b[1;31mUnable to start Kernel 'venv (Python 3.9.4)' due to a timeout waiting for the ports to get used. \n",
      "\u001b[1;31mView Jupyter <a href='command:jupyter.viewOutput'>log</a> for further details."
     ]
    }
   ],
   "source": [
    "fig = go.Figure().update_layout(yaxis_title=\"Capacity (MW)\", xaxis_title=\"Technology\")\n",
    "x1=gen.loc[\"CCGT\"]\n",
    "fig.add_trace(go.Box(y=x1, name=\"CCGT\"))\n",
    "if nuclear is True:\n",
    "    x2=gen.loc[\"nuclear\"]\n",
    "    fig.add_trace(go.Box(y=x2, name=\"Nuclear\"))\n",
    "if hydro is True:\n",
    "    x3=gen.loc[\"hydro\"]\n",
    "    fig.add_trace(go.Box(y=x3, name=\"Hydro\"))\n",
    "x4=gen.loc[\"solar\"]\n",
    "fig.add_trace(go.Box(y=x4, name=\"Solar\"))\n",
    "x5=gen.loc[\"onwind\"]\n",
    "fig.add_trace(go.Box(y=x5, name=\"Wind\"))\n",
    "x6=storage.loc[\"battery storage\"]\n",
    "fig.add_trace(go.Box(y=x6, name=\"Battery Storage\"))\n",
    "# x7=storage.loc[\"pumped hydro\"]\n",
    "# fig.add_trace(go.Box(y=x7, name=\"Pumped Hydro\"))\n",
    "fig.show()"
   ]
  },
  {
   "cell_type": "code",
   "execution_count": null,
   "metadata": {},
   "outputs": [
    {
     "ename": "",
     "evalue": "",
     "output_type": "error",
     "traceback": [
      "\u001b[1;31mFailed to start the Kernel. \n",
      "\u001b[1;31mUnable to start Kernel 'venv (Python 3.9.4)' due to a timeout waiting for the ports to get used. \n",
      "\u001b[1;31mView Jupyter <a href='command:jupyter.viewOutput'>log</a> for further details."
     ]
    }
   ],
   "source": [
    "print(out[1])"
   ]
  },
  {
   "cell_type": "markdown",
   "metadata": {},
   "source": []
  },
  {
   "cell_type": "code",
   "execution_count": null,
   "metadata": {},
   "outputs": [
    {
     "ename": "",
     "evalue": "",
     "output_type": "error",
     "traceback": [
      "\u001b[1;31mFailed to start the Kernel. \n",
      "\u001b[1;31mUnable to start Kernel 'venv (Python 3.9.4)' due to a timeout waiting for the ports to get used. \n",
      "\u001b[1;31mView Jupyter <a href='command:jupyter.viewOutput'>log</a> for further details."
     ]
    }
   ],
   "source": [
    "#out.plot(kind=\"box\", figsize=(12, 6), ylabel=\"System Cost (million CAD$/a)\")\n",
    "fig = go.Figure().update_layout(yaxis_title=\"System Cost (million CAD$)\", xaxis_title=\"Technology\")\n",
    "x1=out.loc[\"CCGT\"]\n",
    "fig.add_trace(go.Box(y=x1, name=\"CCGT\"))\n",
    "if nuclear is True:\n",
    "    x2=gen.loc[\"nuclear\"]\n",
    "    fig.add_trace(go.Box(y=x2, name=\"Nuclear\"))\n",
    "if hydro is True:\n",
    "    x3=gen.loc[\"hydro\"]\n",
    "    fig.add_trace(go.Box(y=x3, name=\"Hydro\"))\n",
    "x4=out.loc[\"solar\"]\n",
    "fig.add_trace(go.Box(y=x4, name=\"Solar\"))\n",
    "x5=out.loc[\"onwind\"]\n",
    "fig.add_trace(go.Box(y=x5, name=\"Wind\"))\n",
    "x6=out.loc[\"battery storage\"]\n",
    "fig.add_trace(go.Box(y=x6, name=\"Battery Storage\"))\n",
    "# x7=out.loc[\"Pumped-Storage-Hydro-store\"]\n",
    "# fig.add_trace(go.Box(y=x7, name=\"Pumped Hydro\"))\n",
    "fig.show()"
   ]
  },
  {
   "cell_type": "code",
   "execution_count": null,
   "metadata": {},
   "outputs": [
    {
     "ename": "",
     "evalue": "",
     "output_type": "error",
     "traceback": [
      "\u001b[1;31mFailed to start the Kernel. \n",
      "\u001b[1;31mUnable to start Kernel 'venv (Python 3.9.4)' due to a timeout waiting for the ports to get used. \n",
      "\u001b[1;31mView Jupyter <a href='command:jupyter.viewOutput'>log</a> for further details."
     ]
    }
   ],
   "source": [
    "fig = px.box(out.sum(), title=\"System Cost Distribution\").update_layout(yaxis_title=\"System Cost (million CAD$/a)\",xaxis={'visible': False})\n",
    "fig.show()"
   ]
  },
  {
   "cell_type": "code",
   "execution_count": null,
   "metadata": {},
   "outputs": [
    {
     "ename": "",
     "evalue": "",
     "output_type": "error",
     "traceback": [
      "\u001b[1;31mFailed to start the Kernel. \n",
      "\u001b[1;31mUnable to start Kernel 'venv (Python 3.9.4)' due to a timeout waiting for the ports to get used. \n",
      "\u001b[1;31mView Jupyter <a href='command:jupyter.viewOutput'>log</a> for further details."
     ]
    }
   ],
   "source": [
    "fig = px.line(out.sum(), title=\"System Cost by Scenario\").update_layout(yaxis_title=\"System Cost (million CAD$/a)\",xaxis_title=\"Scenario\",showlegend=False)\n",
    "fig.show()\n"
   ]
  },
  {
   "cell_type": "code",
   "execution_count": null,
   "metadata": {},
   "outputs": [
    {
     "ename": "",
     "evalue": "",
     "output_type": "error",
     "traceback": [
      "\u001b[1;31mFailed to start the Kernel. \n",
      "\u001b[1;31mUnable to start Kernel 'venv (Python 3.9.4)' due to a timeout waiting for the ports to get used. \n",
      "\u001b[1;31mView Jupyter <a href='command:jupyter.viewOutput'>log</a> for further details."
     ]
    }
   ],
   "source": [
    "fig = px.box(loads.sum().div(1e3), title=f\"Load Distribution for {year}\").update_layout(yaxis_title=\"Load (MW)\", xaxis={'visible': False})\n",
    "fig.show()"
   ]
  },
  {
   "cell_type": "code",
   "execution_count": null,
   "metadata": {},
   "outputs": [
    {
     "ename": "",
     "evalue": "",
     "output_type": "error",
     "traceback": [
      "\u001b[1;31mFailed to start the Kernel. \n",
      "\u001b[1;31mUnable to start Kernel 'venv (Python 3.9.4)' due to a timeout waiting for the ports to get used. \n",
      "\u001b[1;31mView Jupyter <a href='command:jupyter.viewOutput'>log</a> for further details."
     ]
    }
   ],
   "source": [
    "load=ts_data[\"load\"]*mean\n",
    "psa.add(\n",
    "    \"Load\",\n",
    "    \"demand\",\n",
    "    bus=\"electricity\",\n",
    "    p_set=load,\n",
    ")\n",
    "psa.optimize(solver_name=\"highs\")\n",
    "psa.remove(\"Load\", \"demand\")"
   ]
  },
  {
   "cell_type": "code",
   "execution_count": null,
   "metadata": {},
   "outputs": [
    {
     "ename": "",
     "evalue": "",
     "output_type": "error",
     "traceback": [
      "\u001b[1;31mFailed to start the Kernel. \n",
      "\u001b[1;31mUnable to start Kernel 'venv (Python 3.9.4)' due to a timeout waiting for the ports to get used. \n",
      "\u001b[1;31mView Jupyter <a href='command:jupyter.viewOutput'>log</a> for further details."
     ]
    }
   ],
   "source": [
    "result_mean = pd.concat([psa.generators_t.p.loc[date].div(1e3), psa.storage_units_t.p.loc[date].div(1e3)], axis=1, join='inner')\n",
    "print(result_mean)\n",
    "fig = px.bar(\n",
    "    result_mean,\n",
    "    title=f\"Generation and Storage for {date}\",\n",
    "    labels={\"value\": \"Power (GW)\"},\n",
    ").update_layout(yaxis_title=\"Power (GW)\", xaxis_title=\"Date\",bargap=0)\n",
    "fig.add_trace(go.Scatter(x=result_mean.index,y=load.loc[date].div(1e3), name=\"Load\", mode='lines'))\n",
    "fig.show()"
   ]
  },
  {
   "cell_type": "code",
   "execution_count": null,
   "metadata": {},
   "outputs": [
    {
     "ename": "",
     "evalue": "",
     "output_type": "error",
     "traceback": [
      "\u001b[1;31mFailed to start the Kernel. \n",
      "\u001b[1;31mUnable to start Kernel 'venv (Python 3.9.4)' due to a timeout waiting for the ports to get used. \n",
      "\u001b[1;31mView Jupyter <a href='command:jupyter.viewOutput'>log</a> for further details."
     ]
    }
   ],
   "source": [
    "psa.objective / 1e9"
   ]
  },
  {
   "cell_type": "code",
   "execution_count": null,
   "metadata": {},
   "outputs": [
    {
     "ename": "",
     "evalue": "",
     "output_type": "error",
     "traceback": [
      "\u001b[1;31mFailed to start the Kernel. \n",
      "\u001b[1;31mUnable to start Kernel 'venv (Python 3.9.4)' due to a timeout waiting for the ports to get used. \n",
      "\u001b[1;31mView Jupyter <a href='command:jupyter.viewOutput'>log</a> for further details."
     ]
    }
   ],
   "source": [
    "psa.generators.p_nom_opt.div(1e3)  # GW"
   ]
  },
  {
   "cell_type": "code",
   "execution_count": null,
   "metadata": {},
   "outputs": [
    {
     "ename": "",
     "evalue": "",
     "output_type": "error",
     "traceback": [
      "\u001b[1;31mFailed to start the Kernel. \n",
      "\u001b[1;31mUnable to start Kernel 'venv (Python 3.9.4)' due to a timeout waiting for the ports to get used. \n",
      "\u001b[1;31mView Jupyter <a href='command:jupyter.viewOutput'>log</a> for further details."
     ]
    }
   ],
   "source": [
    "psa.snapshot_weightings.generators @ psa.generators_t.p.div(1e6)  # TWh"
   ]
  },
  {
   "cell_type": "code",
   "execution_count": null,
   "metadata": {},
   "outputs": [
    {
     "ename": "",
     "evalue": "",
     "output_type": "error",
     "traceback": [
      "\u001b[1;31mFailed to start the Kernel. \n",
      "\u001b[1;31mUnable to start Kernel 'venv (Python 3.9.4)' due to a timeout waiting for the ports to get used. \n",
      "\u001b[1;31mView Jupyter <a href='command:jupyter.viewOutput'>log</a> for further details."
     ]
    }
   ],
   "source": [
    "(psa.statistics.capex() + psa.statistics.opex(aggregate_time=\"sum\")).div(1e6)"
   ]
  },
  {
   "cell_type": "code",
   "execution_count": null,
   "metadata": {},
   "outputs": [
    {
     "ename": "",
     "evalue": "",
     "output_type": "error",
     "traceback": [
      "\u001b[1;31mFailed to start the Kernel. \n",
      "\u001b[1;31mUnable to start Kernel 'venv (Python 3.9.4)' due to a timeout waiting for the ports to get used. \n",
      "\u001b[1;31mView Jupyter <a href='command:jupyter.viewOutput'>log</a> for further details."
     ]
    }
   ],
   "source": [
    "emissions = (\n",
    "    psa.generators_t.p\n",
    "    / psa.generators.efficiency\n",
    "    * psa.generators.carrier.map(psa.carriers.co2_emissions)\n",
    ")  # t/h"
   ]
  },
  {
   "cell_type": "code",
   "execution_count": null,
   "metadata": {},
   "outputs": [
    {
     "ename": "",
     "evalue": "",
     "output_type": "error",
     "traceback": [
      "\u001b[1;31mFailed to start the Kernel. \n",
      "\u001b[1;31mUnable to start Kernel 'venv (Python 3.9.4)' due to a timeout waiting for the ports to get used. \n",
      "\u001b[1;31mView Jupyter <a href='command:jupyter.viewOutput'>log</a> for further details."
     ]
    }
   ],
   "source": [
    "psa.snapshot_weightings.generators @ emissions.sum(axis=1).div(1e6)  # Mt"
   ]
  },
  {
   "cell_type": "code",
   "execution_count": null,
   "metadata": {},
   "outputs": [
    {
     "ename": "",
     "evalue": "",
     "output_type": "error",
     "traceback": [
      "\u001b[1;31mFailed to start the Kernel. \n",
      "\u001b[1;31mUnable to start Kernel 'venv (Python 3.9.4)' due to a timeout waiting for the ports to get used. \n",
      "\u001b[1;31mView Jupyter <a href='command:jupyter.viewOutput'>log</a> for further details."
     ]
    }
   ],
   "source": [
    "psa.generators.p_nom_opt  # MW"
   ]
  },
  {
   "cell_type": "code",
   "execution_count": null,
   "metadata": {},
   "outputs": [
    {
     "ename": "",
     "evalue": "",
     "output_type": "error",
     "traceback": [
      "\u001b[1;31mFailed to start the Kernel. \n",
      "\u001b[1;31mUnable to start Kernel 'venv (Python 3.9.4)' due to a timeout waiting for the ports to get used. \n",
      "\u001b[1;31mView Jupyter <a href='command:jupyter.viewOutput'>log</a> for further details."
     ]
    }
   ],
   "source": [
    "psa.storage_units.p_nom_opt  # MW"
   ]
  },
  {
   "cell_type": "code",
   "execution_count": null,
   "metadata": {},
   "outputs": [
    {
     "ename": "",
     "evalue": "",
     "output_type": "error",
     "traceback": [
      "\u001b[1;31mFailed to start the Kernel. \n",
      "\u001b[1;31mUnable to start Kernel 'venv (Python 3.9.4)' due to a timeout waiting for the ports to get used. \n",
      "\u001b[1;31mView Jupyter <a href='command:jupyter.viewOutput'>log</a> for further details."
     ]
    }
   ],
   "source": [
    "psa.storage_units.p_nom_opt.div(1e3) * psa.storage_units.max_hours  # GWh"
   ]
  },
  {
   "cell_type": "code",
   "execution_count": null,
   "metadata": {},
   "outputs": [
    {
     "ename": "",
     "evalue": "",
     "output_type": "error",
     "traceback": [
      "\u001b[1;31mFailed to start the Kernel. \n",
      "\u001b[1;31mUnable to start Kernel 'venv (Python 3.9.4)' due to a timeout waiting for the ports to get used. \n",
      "\u001b[1;31mView Jupyter <a href='command:jupyter.viewOutput'>log</a> for further details."
     ]
    }
   ],
   "source": [
    "(psa.statistics.capex() + psa.statistics.opex(aggregate_time=\"sum\")).div(1e6)"
   ]
  },
  {
   "cell_type": "code",
   "execution_count": null,
   "metadata": {},
   "outputs": [
    {
     "ename": "",
     "evalue": "",
     "output_type": "error",
     "traceback": [
      "\u001b[1;31mFailed to start the Kernel. \n",
      "\u001b[1;31mUnable to start Kernel 'venv (Python 3.9.4)' due to a timeout waiting for the ports to get used. \n",
      "\u001b[1;31mView Jupyter <a href='command:jupyter.viewOutput'>log</a> for further details."
     ]
    }
   ],
   "source": [
    "cost = system_cost(psa)\n",
    "for x in cost.index:\n",
    "    if cost[x] == 0:\n",
    "        cost = cost.drop(x)\n",
    "    else:\n",
    "        continue\n",
    "print(cost)\n",
    "fig = px.pie(cost, values=cost, names=cost.index, title=\"System Cost Breakdown\")\n",
    "fig.show()"
   ]
  },
  {
   "cell_type": "code",
   "execution_count": null,
   "metadata": {},
   "outputs": [
    {
     "ename": "",
     "evalue": "",
     "output_type": "error",
     "traceback": [
      "\u001b[1;31mFailed to start the Kernel. \n",
      "\u001b[1;31mUnable to start Kernel 'venv (Python 3.9.4)' due to a timeout waiting for the ports to get used. \n",
      "\u001b[1;31mView Jupyter <a href='command:jupyter.viewOutput'>log</a> for further details."
     ]
    }
   ],
   "source": [
    "demand = psa.snapshot_weightings.generators @ psa.loads_t.p_set.sum(axis=1)"
   ]
  },
  {
   "cell_type": "code",
   "execution_count": null,
   "metadata": {},
   "outputs": [
    {
     "ename": "",
     "evalue": "",
     "output_type": "error",
     "traceback": [
      "\u001b[1;31mFailed to start the Kernel. \n",
      "\u001b[1;31mUnable to start Kernel 'venv (Python 3.9.4)' due to a timeout waiting for the ports to get used. \n",
      "\u001b[1;31mView Jupyter <a href='command:jupyter.viewOutput'>log</a> for further details."
     ]
    }
   ],
   "source": [
    "system_cost(psa).sum() * 1e6 / demand.sum()"
   ]
  },
  {
   "cell_type": "code",
   "execution_count": null,
   "metadata": {},
   "outputs": [
    {
     "ename": "",
     "evalue": "",
     "output_type": "error",
     "traceback": [
      "\u001b[1;31mFailed to start the Kernel. \n",
      "\u001b[1;31mUnable to start Kernel 'venv (Python 3.9.4)' due to a timeout waiting for the ports to get used. \n",
      "\u001b[1;31mView Jupyter <a href='command:jupyter.viewOutput'>log</a> for further details."
     ]
    }
   ],
   "source": [
    "load=ts_data[\"load\"]*low\n",
    "psa.add(\n",
    "    \"Load\",\n",
    "    \"demand\",\n",
    "    bus=\"electricity\",\n",
    "    p_set=load,\n",
    ")\n",
    "psa.optimize(solver_name=\"highs\")\n",
    "psa.remove(\"Load\", \"demand\")"
   ]
  },
  {
   "cell_type": "code",
   "execution_count": null,
   "metadata": {},
   "outputs": [
    {
     "ename": "",
     "evalue": "",
     "output_type": "error",
     "traceback": [
      "\u001b[1;31mFailed to start the Kernel. \n",
      "\u001b[1;31mUnable to start Kernel 'venv (Python 3.9.4)' due to a timeout waiting for the ports to get used. \n",
      "\u001b[1;31mView Jupyter <a href='command:jupyter.viewOutput'>log</a> for further details."
     ]
    }
   ],
   "source": [
    "result_low = pd.concat([psa.generators_t.p.loc[date].div(1e3), psa.storage_units_t.p.loc[date].div(1e3)], axis=1, join='inner')\n",
    "print(result_low)\n",
    "fig = px.bar(\n",
    "    result_low,\n",
    "    title=f\"Generation and Storage for {date}\",\n",
    "    labels={\"value\": \"Power (GW)\"},\n",
    ").update_layout(yaxis_title=\"Power (GW)\", xaxis_title=\"Date\",bargap=0)\n",
    "fig.add_trace(go.Scatter(x=result_low.index,y=load.loc[date].div(1e3), name=\"Load\", mode='lines'))\n",
    "fig.show()"
   ]
  },
  {
   "cell_type": "code",
   "execution_count": null,
   "metadata": {},
   "outputs": [
    {
     "ename": "",
     "evalue": "",
     "output_type": "error",
     "traceback": [
      "\u001b[1;31mFailed to start the Kernel. \n",
      "\u001b[1;31mUnable to start Kernel 'venv (Python 3.9.4)' due to a timeout waiting for the ports to get used. \n",
      "\u001b[1;31mView Jupyter <a href='command:jupyter.viewOutput'>log</a> for further details."
     ]
    }
   ],
   "source": [
    "load=ts_data[\"load\"]*high\n",
    "psa.add(\n",
    "    \"Load\",\n",
    "    \"demand\",\n",
    "    bus=\"electricity\",\n",
    "    p_set=load,\n",
    ")\n",
    "psa.optimize(solver_name=\"highs\")\n",
    "psa.remove(\"Load\", \"demand\")"
   ]
  },
  {
   "cell_type": "code",
   "execution_count": null,
   "metadata": {},
   "outputs": [
    {
     "ename": "",
     "evalue": "",
     "output_type": "error",
     "traceback": [
      "\u001b[1;31mFailed to start the Kernel. \n",
      "\u001b[1;31mUnable to start Kernel 'venv (Python 3.9.4)' due to a timeout waiting for the ports to get used. \n",
      "\u001b[1;31mView Jupyter <a href='command:jupyter.viewOutput'>log</a> for further details."
     ]
    }
   ],
   "source": [
    "result_high = pd.concat([psa.generators_t.p.loc[date].div(1e3), psa.storage_units_t.p.loc[date].div(1e3)], axis=1, join='inner')\n",
    "print(result_high)\n",
    "fig = px.bar(\n",
    "    result_high,\n",
    "    title=f\"Generation and Storage for {date}\",\n",
    "    labels={\"value\": \"Power (GW)\"},\n",
    ").update_layout(yaxis_title=\"Power (GW)\", xaxis_title=\"Date\",bargap=0)\n",
    "fig.add_trace(go.Scatter(x=result_high.index,y=load.loc[date].div(1e3), name=\"Load\", mode='lines'))\n",
    "fig.show()"
   ]
  },
  {
   "cell_type": "code",
   "execution_count": null,
   "metadata": {},
   "outputs": [
    {
     "ename": "",
     "evalue": "",
     "output_type": "error",
     "traceback": [
      "\u001b[1;31mFailed to start the Kernel. \n",
      "\u001b[1;31mUnable to start Kernel 'venv (Python 3.9.4)' due to a timeout waiting for the ports to get used. \n",
      "\u001b[1;31mView Jupyter <a href='command:jupyter.viewOutput'>log</a> for further details."
     ]
    }
   ],
   "source": [
    "import plotly.express as px\n",
    "from plotly.offline import plot\n",
    "from plotly.subplots import make_subplots\n",
    "\n",
    "figures = [\n",
    "            px.bar(result_high).update_layout(yaxis_title=\"Power (GW)\", xaxis_title=\"Date\", bargap=0),\n",
    "            px.bar(result_low).update_layout(yaxis_title=\"Power (GW)\", xaxis_title=\"Date\", bargap=0),\n",
    "            px.bar(result_high).update_layout(yaxis_title=\"Power (GW)\", xaxis_title=\"Date\", bargap=0),\n",
    "    ]\n",
    "\n",
    "fig = make_subplots(rows=len(figures), cols=1) \n",
    "\n",
    "for i, figure in enumerate(figures):\n",
    "    for trace in range(len(figure[\"data\"])):\n",
    "        fig.append_trace(figure[\"data\"][trace], row=i+1, col=1)\n",
    "fig.show()"
   ]
  },
  {
   "cell_type": "code",
   "execution_count": null,
   "metadata": {},
   "outputs": [
    {
     "ename": "",
     "evalue": "",
     "output_type": "error",
     "traceback": [
      "\u001b[1;31mFailed to start the Kernel. \n",
      "\u001b[1;31mUnable to start Kernel 'venv (Python 3.9.4)' due to a timeout waiting for the ports to get used. \n",
      "\u001b[1;31mView Jupyter <a href='command:jupyter.viewOutput'>log</a> for further details."
     ]
    }
   ],
   "source": [
    "load=ts_data[\"load\"]*mean\n",
    "psa.add(\n",
    "    \"Load\",\n",
    "    \"demand\",\n",
    "    bus=\"electricity\",\n",
    "    p_set=load,\n",
    ")\n",
    "psa.optimize(solver_name=\"highs\")\n",
    "psa.remove(\"Load\", \"demand\")\n",
    "\n",
    "sensitivity = {}\n",
    "for co2 in [150, 100, 50, 25, 0]:\n",
    "    psa.global_constraints.loc[\"CO2Limit\", \"constant\"] = co2 * 1e6\n",
    "    psa.optimize(solver_name=\"highs\")\n",
    "    sensitivity[co2] = system_cost(psa)"
   ]
  },
  {
   "cell_type": "code",
   "execution_count": null,
   "metadata": {},
   "outputs": [
    {
     "ename": "",
     "evalue": "",
     "output_type": "error",
     "traceback": [
      "\u001b[1;31mFailed to start the Kernel. \n",
      "\u001b[1;31mUnable to start Kernel 'venv (Python 3.9.4)' due to a timeout waiting for the ports to get used. \n",
      "\u001b[1;31mView Jupyter <a href='command:jupyter.viewOutput'>log</a> for further details."
     ]
    }
   ],
   "source": [
    "df = pd.DataFrame(sensitivity).T.div(1e3)\n",
    "fig = px.bar(df).update_layout(yaxis_title=\"System Cost [bnCAD$/a]\", xaxis_title=\"CO2 emissions [Mt/a]\")\n",
    "fig.show()"
   ]
  },
  {
   "cell_type": "code",
   "execution_count": null,
   "metadata": {},
   "outputs": [
    {
     "ename": "",
     "evalue": "",
     "output_type": "error",
     "traceback": [
      "\u001b[1;31mFailed to start the Kernel. \n",
      "\u001b[1;31mUnable to start Kernel 'venv (Python 3.9.4)' due to a timeout waiting for the ports to get used. \n",
      "\u001b[1;31mView Jupyter <a href='command:jupyter.viewOutput'>log</a> for further details."
     ]
    }
   ],
   "source": []
  }
 ],
 "metadata": {
  "kernelspec": {
   "display_name": "Python 3",
   "language": "python",
   "name": "python3"
  },
  "language_info": {
   "codemirror_mode": {
    "name": "ipython",
    "version": 3
   },
   "file_extension": ".py",
   "mimetype": "text/x-python",
   "name": "python",
   "nbconvert_exporter": "python",
   "pygments_lexer": "ipython3",
   "version": "3.9.4"
  }
 },
 "nbformat": 4,
 "nbformat_minor": 2
}
